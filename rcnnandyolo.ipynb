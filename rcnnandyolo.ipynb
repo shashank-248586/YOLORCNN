{
  "cells": [
    {
      "cell_type": "markdown",
      "metadata": {
        "id": "XnLeorDT2vN0"
      },
      "source": [
        "How do you load and run inference on a custom image using the YOLOv8 model?"
      ]
    },
    {
      "cell_type": "markdown",
      "metadata": {
        "id": "B8RAn97q3qKh"
      },
      "source": []
    },
    {
      "cell_type": "code",
      "execution_count": 13,
      "metadata": {
        "colab": {
          "base_uri": "https://localhost:8080/"
        },
        "id": "Sp2p-Tgq5N_M",
        "outputId": "88e78d90-dbc6-4b95-f801-1f2e381c5540"
      },
      "outputs": [
        {
          "name": "stdout",
          "output_type": "stream",
          "text": [
            "Requirement already satisfied: ultralytics in /usr/local/lib/python3.11/dist-packages (8.3.72)\n",
            "Requirement already satisfied: numpy<=2.1.1,>=1.23.0 in /usr/local/lib/python3.11/dist-packages (from ultralytics) (1.26.4)\n",
            "Requirement already satisfied: matplotlib>=3.3.0 in /usr/local/lib/python3.11/dist-packages (from ultralytics) (3.10.0)\n",
            "Requirement already satisfied: opencv-python>=4.6.0 in /usr/local/lib/python3.11/dist-packages (from ultralytics) (4.10.0.84)\n",
            "Requirement already satisfied: pillow>=7.1.2 in /usr/local/lib/python3.11/dist-packages (from ultralytics) (11.1.0)\n",
            "Requirement already satisfied: pyyaml>=5.3.1 in /usr/local/lib/python3.11/dist-packages (from ultralytics) (6.0.2)\n",
            "Requirement already satisfied: requests>=2.23.0 in /usr/local/lib/python3.11/dist-packages (from ultralytics) (2.32.3)\n",
            "Requirement already satisfied: scipy>=1.4.1 in /usr/local/lib/python3.11/dist-packages (from ultralytics) (1.13.1)\n",
            "Requirement already satisfied: torch>=1.8.0 in /usr/local/lib/python3.11/dist-packages (from ultralytics) (2.5.1+cu124)\n",
            "Requirement already satisfied: torchvision>=0.9.0 in /usr/local/lib/python3.11/dist-packages (from ultralytics) (0.20.1+cu124)\n",
            "Requirement already satisfied: tqdm>=4.64.0 in /usr/local/lib/python3.11/dist-packages (from ultralytics) (4.67.1)\n",
            "Requirement already satisfied: psutil in /usr/local/lib/python3.11/dist-packages (from ultralytics) (5.9.5)\n",
            "Requirement already satisfied: py-cpuinfo in /usr/local/lib/python3.11/dist-packages (from ultralytics) (9.0.0)\n",
            "Requirement already satisfied: pandas>=1.1.4 in /usr/local/lib/python3.11/dist-packages (from ultralytics) (2.2.2)\n",
            "Requirement already satisfied: seaborn>=0.11.0 in /usr/local/lib/python3.11/dist-packages (from ultralytics) (0.13.2)\n",
            "Requirement already satisfied: ultralytics-thop>=2.0.0 in /usr/local/lib/python3.11/dist-packages (from ultralytics) (2.0.14)\n",
            "Requirement already satisfied: contourpy>=1.0.1 in /usr/local/lib/python3.11/dist-packages (from matplotlib>=3.3.0->ultralytics) (1.3.1)\n",
            "Requirement already satisfied: cycler>=0.10 in /usr/local/lib/python3.11/dist-packages (from matplotlib>=3.3.0->ultralytics) (0.12.1)\n",
            "Requirement already satisfied: fonttools>=4.22.0 in /usr/local/lib/python3.11/dist-packages (from matplotlib>=3.3.0->ultralytics) (4.55.7)\n",
            "Requirement already satisfied: kiwisolver>=1.3.1 in /usr/local/lib/python3.11/dist-packages (from matplotlib>=3.3.0->ultralytics) (1.4.8)\n",
            "Requirement already satisfied: packaging>=20.0 in /usr/local/lib/python3.11/dist-packages (from matplotlib>=3.3.0->ultralytics) (24.2)\n",
            "Requirement already satisfied: pyparsing>=2.3.1 in /usr/local/lib/python3.11/dist-packages (from matplotlib>=3.3.0->ultralytics) (3.2.1)\n",
            "Requirement already satisfied: python-dateutil>=2.7 in /usr/local/lib/python3.11/dist-packages (from matplotlib>=3.3.0->ultralytics) (2.8.2)\n",
            "Requirement already satisfied: pytz>=2020.1 in /usr/local/lib/python3.11/dist-packages (from pandas>=1.1.4->ultralytics) (2024.2)\n",
            "Requirement already satisfied: tzdata>=2022.7 in /usr/local/lib/python3.11/dist-packages (from pandas>=1.1.4->ultralytics) (2025.1)\n",
            "Requirement already satisfied: charset-normalizer<4,>=2 in /usr/local/lib/python3.11/dist-packages (from requests>=2.23.0->ultralytics) (3.4.1)\n",
            "Requirement already satisfied: idna<4,>=2.5 in /usr/local/lib/python3.11/dist-packages (from requests>=2.23.0->ultralytics) (3.10)\n",
            "Requirement already satisfied: urllib3<3,>=1.21.1 in /usr/local/lib/python3.11/dist-packages (from requests>=2.23.0->ultralytics) (2.3.0)\n",
            "Requirement already satisfied: certifi>=2017.4.17 in /usr/local/lib/python3.11/dist-packages (from requests>=2.23.0->ultralytics) (2024.12.14)\n",
            "Requirement already satisfied: filelock in /usr/local/lib/python3.11/dist-packages (from torch>=1.8.0->ultralytics) (3.17.0)\n",
            "Requirement already satisfied: typing-extensions>=4.8.0 in /usr/local/lib/python3.11/dist-packages (from torch>=1.8.0->ultralytics) (4.12.2)\n",
            "Requirement already satisfied: networkx in /usr/local/lib/python3.11/dist-packages (from torch>=1.8.0->ultralytics) (3.4.2)\n",
            "Requirement already satisfied: jinja2 in /usr/local/lib/python3.11/dist-packages (from torch>=1.8.0->ultralytics) (3.1.5)\n",
            "Requirement already satisfied: fsspec in /usr/local/lib/python3.11/dist-packages (from torch>=1.8.0->ultralytics) (2024.10.0)\n",
            "Requirement already satisfied: nvidia-cuda-nvrtc-cu12==12.4.127 in /usr/local/lib/python3.11/dist-packages (from torch>=1.8.0->ultralytics) (12.4.127)\n",
            "Requirement already satisfied: nvidia-cuda-runtime-cu12==12.4.127 in /usr/local/lib/python3.11/dist-packages (from torch>=1.8.0->ultralytics) (12.4.127)\n",
            "Requirement already satisfied: nvidia-cuda-cupti-cu12==12.4.127 in /usr/local/lib/python3.11/dist-packages (from torch>=1.8.0->ultralytics) (12.4.127)\n",
            "Requirement already satisfied: nvidia-cudnn-cu12==9.1.0.70 in /usr/local/lib/python3.11/dist-packages (from torch>=1.8.0->ultralytics) (9.1.0.70)\n",
            "Requirement already satisfied: nvidia-cublas-cu12==12.4.5.8 in /usr/local/lib/python3.11/dist-packages (from torch>=1.8.0->ultralytics) (12.4.5.8)\n",
            "Requirement already satisfied: nvidia-cufft-cu12==11.2.1.3 in /usr/local/lib/python3.11/dist-packages (from torch>=1.8.0->ultralytics) (11.2.1.3)\n",
            "Requirement already satisfied: nvidia-curand-cu12==10.3.5.147 in /usr/local/lib/python3.11/dist-packages (from torch>=1.8.0->ultralytics) (10.3.5.147)\n",
            "Requirement already satisfied: nvidia-cusolver-cu12==11.6.1.9 in /usr/local/lib/python3.11/dist-packages (from torch>=1.8.0->ultralytics) (11.6.1.9)\n",
            "Requirement already satisfied: nvidia-cusparse-cu12==12.3.1.170 in /usr/local/lib/python3.11/dist-packages (from torch>=1.8.0->ultralytics) (12.3.1.170)\n",
            "Requirement already satisfied: nvidia-nccl-cu12==2.21.5 in /usr/local/lib/python3.11/dist-packages (from torch>=1.8.0->ultralytics) (2.21.5)\n",
            "Requirement already satisfied: nvidia-nvtx-cu12==12.4.127 in /usr/local/lib/python3.11/dist-packages (from torch>=1.8.0->ultralytics) (12.4.127)\n",
            "Requirement already satisfied: nvidia-nvjitlink-cu12==12.4.127 in /usr/local/lib/python3.11/dist-packages (from torch>=1.8.0->ultralytics) (12.4.127)\n",
            "Requirement already satisfied: triton==3.1.0 in /usr/local/lib/python3.11/dist-packages (from torch>=1.8.0->ultralytics) (3.1.0)\n",
            "Requirement already satisfied: sympy==1.13.1 in /usr/local/lib/python3.11/dist-packages (from torch>=1.8.0->ultralytics) (1.13.1)\n",
            "Requirement already satisfied: mpmath<1.4,>=1.1.0 in /usr/local/lib/python3.11/dist-packages (from sympy==1.13.1->torch>=1.8.0->ultralytics) (1.3.0)\n",
            "Requirement already satisfied: six>=1.5 in /usr/local/lib/python3.11/dist-packages (from python-dateutil>=2.7->matplotlib>=3.3.0->ultralytics) (1.17.0)\n",
            "Requirement already satisfied: MarkupSafe>=2.0 in /usr/local/lib/python3.11/dist-packages (from jinja2->torch>=1.8.0->ultralytics) (3.0.2)\n",
            "Requirement already satisfied: torchvision in /usr/local/lib/python3.11/dist-packages (0.20.1+cu124)\n",
            "Requirement already satisfied: numpy in /usr/local/lib/python3.11/dist-packages (from torchvision) (1.26.4)\n",
            "Requirement already satisfied: torch==2.5.1 in /usr/local/lib/python3.11/dist-packages (from torchvision) (2.5.1+cu124)\n",
            "Requirement already satisfied: pillow!=8.3.*,>=5.3.0 in /usr/local/lib/python3.11/dist-packages (from torchvision) (11.1.0)\n",
            "Requirement already satisfied: filelock in /usr/local/lib/python3.11/dist-packages (from torch==2.5.1->torchvision) (3.17.0)\n",
            "Requirement already satisfied: typing-extensions>=4.8.0 in /usr/local/lib/python3.11/dist-packages (from torch==2.5.1->torchvision) (4.12.2)\n",
            "Requirement already satisfied: networkx in /usr/local/lib/python3.11/dist-packages (from torch==2.5.1->torchvision) (3.4.2)\n",
            "Requirement already satisfied: jinja2 in /usr/local/lib/python3.11/dist-packages (from torch==2.5.1->torchvision) (3.1.5)\n",
            "Requirement already satisfied: fsspec in /usr/local/lib/python3.11/dist-packages (from torch==2.5.1->torchvision) (2024.10.0)\n",
            "Requirement already satisfied: nvidia-cuda-nvrtc-cu12==12.4.127 in /usr/local/lib/python3.11/dist-packages (from torch==2.5.1->torchvision) (12.4.127)\n",
            "Requirement already satisfied: nvidia-cuda-runtime-cu12==12.4.127 in /usr/local/lib/python3.11/dist-packages (from torch==2.5.1->torchvision) (12.4.127)\n",
            "Requirement already satisfied: nvidia-cuda-cupti-cu12==12.4.127 in /usr/local/lib/python3.11/dist-packages (from torch==2.5.1->torchvision) (12.4.127)\n",
            "Requirement already satisfied: nvidia-cudnn-cu12==9.1.0.70 in /usr/local/lib/python3.11/dist-packages (from torch==2.5.1->torchvision) (9.1.0.70)\n",
            "Requirement already satisfied: nvidia-cublas-cu12==12.4.5.8 in /usr/local/lib/python3.11/dist-packages (from torch==2.5.1->torchvision) (12.4.5.8)\n",
            "Requirement already satisfied: nvidia-cufft-cu12==11.2.1.3 in /usr/local/lib/python3.11/dist-packages (from torch==2.5.1->torchvision) (11.2.1.3)\n",
            "Requirement already satisfied: nvidia-curand-cu12==10.3.5.147 in /usr/local/lib/python3.11/dist-packages (from torch==2.5.1->torchvision) (10.3.5.147)\n",
            "Requirement already satisfied: nvidia-cusolver-cu12==11.6.1.9 in /usr/local/lib/python3.11/dist-packages (from torch==2.5.1->torchvision) (11.6.1.9)\n",
            "Requirement already satisfied: nvidia-cusparse-cu12==12.3.1.170 in /usr/local/lib/python3.11/dist-packages (from torch==2.5.1->torchvision) (12.3.1.170)\n",
            "Requirement already satisfied: nvidia-nccl-cu12==2.21.5 in /usr/local/lib/python3.11/dist-packages (from torch==2.5.1->torchvision) (2.21.5)\n",
            "Requirement already satisfied: nvidia-nvtx-cu12==12.4.127 in /usr/local/lib/python3.11/dist-packages (from torch==2.5.1->torchvision) (12.4.127)\n",
            "Requirement already satisfied: nvidia-nvjitlink-cu12==12.4.127 in /usr/local/lib/python3.11/dist-packages (from torch==2.5.1->torchvision) (12.4.127)\n",
            "Requirement already satisfied: triton==3.1.0 in /usr/local/lib/python3.11/dist-packages (from torch==2.5.1->torchvision) (3.1.0)\n",
            "Requirement already satisfied: sympy==1.13.1 in /usr/local/lib/python3.11/dist-packages (from torch==2.5.1->torchvision) (1.13.1)\n",
            "Requirement already satisfied: mpmath<1.4,>=1.1.0 in /usr/local/lib/python3.11/dist-packages (from sympy==1.13.1->torch==2.5.1->torchvision) (1.3.0)\n",
            "Requirement already satisfied: MarkupSafe>=2.0 in /usr/local/lib/python3.11/dist-packages (from jinja2->torch==2.5.1->torchvision) (3.0.2)\n"
          ]
        }
      ],
      "source": [
        "#!pip install ultralytics\n",
        "#!pip install torchvision\n"
      ]
    },
    {
      "cell_type": "code",
      "execution_count": 8,
      "metadata": {
        "colab": {
          "base_uri": "https://localhost:8080/"
        },
        "id": "2SL6aUQP287Y",
        "outputId": "c7938773-71e3-406a-ef1e-41c0c4813316"
      },
      "outputs": [
        {
          "name": "stdout",
          "output_type": "stream",
          "text": [
            "\n",
            "image 1/1 /content/images/mang.png: 640x480 (no detections), 179.3ms\n",
            "Speed: 4.8ms preprocess, 179.3ms inference, 0.8ms postprocess per image at shape (1, 3, 640, 480)\n"
          ]
        },
        {
          "data": {
            "text/plain": [
              "ultralytics.engine.results.Results object with attributes:\n",
              "\n",
              "boxes: ultralytics.engine.results.Boxes object\n",
              "keypoints: None\n",
              "masks: None\n",
              "names: {0: 'person', 1: 'bicycle', 2: 'car', 3: 'motorcycle', 4: 'airplane', 5: 'bus', 6: 'train', 7: 'truck', 8: 'boat', 9: 'traffic light', 10: 'fire hydrant', 11: 'stop sign', 12: 'parking meter', 13: 'bench', 14: 'bird', 15: 'cat', 16: 'dog', 17: 'horse', 18: 'sheep', 19: 'cow', 20: 'elephant', 21: 'bear', 22: 'zebra', 23: 'giraffe', 24: 'backpack', 25: 'umbrella', 26: 'handbag', 27: 'tie', 28: 'suitcase', 29: 'frisbee', 30: 'skis', 31: 'snowboard', 32: 'sports ball', 33: 'kite', 34: 'baseball bat', 35: 'baseball glove', 36: 'skateboard', 37: 'surfboard', 38: 'tennis racket', 39: 'bottle', 40: 'wine glass', 41: 'cup', 42: 'fork', 43: 'knife', 44: 'spoon', 45: 'bowl', 46: 'banana', 47: 'apple', 48: 'sandwich', 49: 'orange', 50: 'broccoli', 51: 'carrot', 52: 'hot dog', 53: 'pizza', 54: 'donut', 55: 'cake', 56: 'chair', 57: 'couch', 58: 'potted plant', 59: 'bed', 60: 'dining table', 61: 'toilet', 62: 'tv', 63: 'laptop', 64: 'mouse', 65: 'remote', 66: 'keyboard', 67: 'cell phone', 68: 'microwave', 69: 'oven', 70: 'toaster', 71: 'sink', 72: 'refrigerator', 73: 'book', 74: 'clock', 75: 'vase', 76: 'scissors', 77: 'teddy bear', 78: 'hair drier', 79: 'toothbrush'}\n",
              "obb: None\n",
              "orig_img: array([[[ 83, 117, 117],\n",
              "        [ 78, 112, 111],\n",
              "        [ 74, 108, 107],\n",
              "        ...,\n",
              "        [ 28,  39,  67],\n",
              "        [ 25,  34,  61],\n",
              "        [ 21,  30,  57]],\n",
              "\n",
              "       [[ 84, 118, 118],\n",
              "        [ 79, 113, 112],\n",
              "        [ 76, 110, 109],\n",
              "        ...,\n",
              "        [ 29,  40,  68],\n",
              "        [ 25,  34,  61],\n",
              "        [ 22,  31,  58]],\n",
              "\n",
              "       [[ 88, 122, 122],\n",
              "        [ 83, 117, 116],\n",
              "        [ 82, 114, 113],\n",
              "        ...,\n",
              "        [ 23,  34,  62],\n",
              "        [ 19,  28,  55],\n",
              "        [ 17,  26,  53]],\n",
              "\n",
              "       ...,\n",
              "\n",
              "       [[116, 116, 100],\n",
              "        [162, 163, 147],\n",
              "        [166, 169, 153],\n",
              "        ...,\n",
              "        [ 30,  30,  30],\n",
              "        [ 29,  29,  29],\n",
              "        [ 29,  29,  29]],\n",
              "\n",
              "       [[130, 127, 112],\n",
              "        [160, 160, 144],\n",
              "        [168, 171, 155],\n",
              "        ...,\n",
              "        [ 30,  30,  30],\n",
              "        [ 30,  30,  30],\n",
              "        [ 30,  30,  30]],\n",
              "\n",
              "       [[186, 181, 166],\n",
              "        [196, 193, 178],\n",
              "        [198, 200, 181],\n",
              "        ...,\n",
              "        [ 31,  31,  31],\n",
              "        [ 31,  31,  31],\n",
              "        [ 31,  31,  31]]], dtype=uint8)\n",
              "orig_shape: (533, 400)\n",
              "path: '/content/images/mang.png'\n",
              "probs: None\n",
              "save_dir: 'runs/detect/predict'\n",
              "speed: {'preprocess': 4.805564880371094, 'inference': 179.34513092041016, 'postprocess': 0.7617473602294922}"
            ]
          },
          "execution_count": 8,
          "metadata": {},
          "output_type": "execute_result"
        }
      ],
      "source": [
        "from ultralytics import YOLO\n",
        "#import the yolov8\n",
        "model = YOLO(\"yolov8n.pt\")\n",
        "#loading images\n",
        "image = r\"/content/images/mang.png\"\n",
        "model.predict(image)[0]"
      ]
    },
    {
      "cell_type": "markdown",
      "metadata": {
        "id": "2CGSvMvn78gt"
      },
      "source": [
        "How do you load the Faster RCNN model with a ResNet50 backbone and print its architecture?"
      ]
    },
    {
      "cell_type": "code",
      "execution_count": 17,
      "metadata": {
        "id": "W2wed25E9Wp9"
      },
      "outputs": [],
      "source": [
        "import torchvision\n",
        "from torchvision.models.detection import FasterRCNN_ResNet50_FPN_Weights # Import the enum class\n"
      ]
    },
    {
      "cell_type": "code",
      "execution_count": 18,
      "metadata": {
        "colab": {
          "base_uri": "https://localhost:8080/"
        },
        "id": "1_DyGT8e7CSo",
        "outputId": "c5a2e6e7-7af4-4f2b-e72a-791335e99fbc"
      },
      "outputs": [
        {
          "name": "stderr",
          "output_type": "stream",
          "text": [
            "Downloading: \"https://download.pytorch.org/models/fasterrcnn_resnet50_fpn_coco-258fb6c6.pth\" to /root/.cache/torch/hub/checkpoints/fasterrcnn_resnet50_fpn_coco-258fb6c6.pth\n",
            "100%|██████████| 160M/160M [00:01<00:00, 98.9MB/s]\n"
          ]
        }
      ],
      "source": [
        "model = torchvision.models.detection.fasterrcnn_resnet50_fpn(weights=FasterRCNN_ResNet50_FPN_Weights.DEFAULT)"
      ]
    },
    {
      "cell_type": "markdown",
      "metadata": {
        "id": "gIMXr-Tx9o7r"
      },
      "source": [
        "How do you perform inference on an online image using the Faster RCNN model and print the predictions"
      ]
    },
    {
      "cell_type": "code",
      "execution_count": 40,
      "metadata": {
        "id": "WOPpbMvD_Lk_"
      },
      "outputs": [],
      "source": [
        "import cv2\n",
        "import numpy as np\n",
        "model.eval()\n",
        "img = cv2.imread(r\"/content/images/mang.png\")\n",
        "img = cv2.cvtColor(img, cv2.COLOR_BGR2RGB)\n",
        "img = np.array(img)\n",
        "model(img)"
      ]
    },
    {
      "cell_type": "markdown",
      "metadata": {
        "id": "a2HLK-e9Cf4k"
      },
      "source": [
        "How do you load an image and perform inference using YOLOv9, then display the detected objects with\n",
        "bounding boxes and class labels"
      ]
    },
    {
      "cell_type": "code",
      "execution_count": 42,
      "metadata": {
        "colab": {
          "base_uri": "https://localhost:8080/"
        },
        "id": "o_C_s7MJ_9ml",
        "outputId": "4fb07664-8607-428f-81d7-405581537080"
      },
      "outputs": [
        {
          "name": "stdout",
          "output_type": "stream",
          "text": [
            "Downloading https://github.com/ultralytics/assets/releases/download/v8.3.0/yolov9c.pt to 'yolov9c.pt'...\n"
          ]
        },
        {
          "name": "stderr",
          "output_type": "stream",
          "text": [
            "100%|██████████| 49.4M/49.4M [00:01<00:00, 34.9MB/s]\n"
          ]
        }
      ],
      "source": [
        "#importing yolov9\n",
        "model = YOLO(\"yolov9c.pt\")"
      ]
    },
    {
      "cell_type": "code",
      "execution_count": 47,
      "metadata": {
        "colab": {
          "base_uri": "https://localhost:8080/",
          "height": 229
        },
        "id": "yG8uMH5xCkL0",
        "outputId": "0614c72b-1afe-4453-ea1d-983bd00227bf"
      },
      "outputs": [
        {
          "name": "stdout",
          "output_type": "stream",
          "text": [
            "\n",
            "image 1/1 /content/images/download (3).jpeg: 448x640 1 person, 2 cars, 1 bus, 2 trucks, 1 clock, 1949.0ms\n",
            "Speed: 5.7ms preprocess, 1949.0ms inference, 1.5ms postprocess per image at shape (1, 3, 448, 640)\n"
          ]
        },
        {
          "data": {
            "image/jpeg": "[encoded data removed]",
            "image/png": "[encoded data removed]",
            "text/plain": [
              "<PIL.Image.Image image mode=RGB size=240x160>"
            ]
          },
          "metadata": {},
          "output_type": "display_data"
        }
      ],
      "source": [
        "image = r\"/content/images/download (3).jpeg\"\n",
        "model.predict(image)[0].show()"
      ]
    },
    {
      "cell_type": "markdown",
      "metadata": {
        "id": "wsJoev_1FGJ0"
      },
      "source": [
        "How do you display bounding boxes for the detected objects in an image using Faster RCNN"
      ]
    },
    {
      "cell_type": "code",
      "execution_count": 54,
      "metadata": {
        "colab": {
          "base_uri": "https://localhost:8080/"
        },
        "id": "KYpupw7pDfd1",
        "outputId": "0836e947-e78e-4959-d75e-00ba8e8e9397"
      },
      "outputs": [
        {
          "name": "stdout",
          "output_type": "stream",
          "text": [
            "\n",
            "image 1/1 /content/images/download (3).jpeg: 448x640 1 person, 2 cars, 1 bus, 2 trucks, 1 clock, 1442.3ms\n",
            "Speed: 7.9ms preprocess, 1442.3ms inference, 1.3ms postprocess per image at shape (1, 3, 448, 640)\n"
          ]
        }
      ],
      "source": [
        "cont = model.predict(image)"
      ]
    },
    {
      "cell_type": "code",
      "execution_count": 79,
      "metadata": {
        "id": "NTnsgwNQGAwK"
      },
      "outputs": [],
      "source": [
        "import cv2"
      ]
    },
    {
      "cell_type": "code",
      "execution_count": 85,
      "metadata": {
        "id": "hq5sEo4IGGrn"
      },
      "outputs": [],
      "source": [
        "frame = r\"/content/images/transport-logistic-set-vehicles_24877-54157.avif\"\n",
        "frame = cv2.imread(frame)\n",
        "# frame = np.array(frame)\n",
        "for box in cont[0].boxes:\n",
        "  x1, y1, x2, y2 = map(int, box.xyxy.tolist()[0])\n",
        "  class_id = int(box.cls)\n",
        "  class_name = cont[0].names[class_id]\n",
        "  confidence = box.conf.item()\n",
        "  # Draw rectangle and label on the frame\n",
        "  cv2.rectangle(frame, (x1, y1), (x2, y2), (0, 255, 0), 2)\n",
        "  label = f\"{class_name}: {confidence:.2f}\"\n",
        "  cv2.putText(frame, label, (x1, y1 - 10), cv2.FONT_HERSHEY_SIMPLEX, 0.5, (0, 255, 0), 2)\n",
        "    # Display the frame with detections\n",
        "cv2.imshow(\"YOLO Webcam Detection\", frame)"
      ]
    },
    {
      "cell_type": "markdown",
      "metadata": {
        "id": "tGq-UNWZMNH3"
      },
      "source": [
        "How do you perform inference on a local image using Faster RCNN"
      ]
    },
    {
      "cell_type": "code",
      "execution_count": null,
      "metadata": {
        "id": "PT66oQECJyFc"
      },
      "outputs": [],
      "source": [
        "def make_inference(img, model):\n",
        "  result = model.predict(img)\n",
        "  img_array = cv2.imread(img)\n",
        "  for box in result[0].boxes:\n",
        "    x1, x2, y1, y2 = box.xyxy.to_list()[0]\n",
        "    class_id = int(box.cls)\n",
        "    class_name = cont[0].names[class_id]\n",
        "    confidence = box.conf.item()\n",
        "  # Draw rectangle and label on the frame\n",
        "    cv2.rectangle(img_array, (x1, y1), (x2, y2), (0, 255, 0), 2)\n",
        "    label = f\"{class_name}: {confidence:.2f}\"\n",
        "    cv2.putText(img_array, label, (x1, y1 - 10), cv2.FONT_HERSHEY_SIMPLEX, 0.5, (0, 255, 0), 2)\n",
        "    return img_array\n"
      ]
    },
    {
      "cell_type": "markdown",
      "metadata": {
        "id": "q9IwUztgOxNu"
      },
      "source": [
        " How do you perform inference on a local image using Faster RCNN"
      ]
    },
    {
      "cell_type": "code",
      "execution_count": null,
      "metadata": {
        "id": "2alA0OdGOzWr"
      },
      "outputs": [],
      "source": [
        "frame = r\"/content/images/transport-logistic-set-vehicles_24877-54157.avif\"\n",
        "frame = cv2.imread(frame)\n",
        "# frame = np.array(frame)\n",
        "for box in cont[0].boxes:\n",
        "  x1, y1, x2, y2 = map(int, box.xyxy.tolist()[0])\n",
        "  class_id = int(box.cls)\n",
        "  class_name = cont[0].names[class_id]\n",
        "  confidence = box.conf.item()\n",
        "  # Draw rectangle and label on the frame\n",
        "  cv2.rectangle(frame, (x1, y1), (x2, y2), (0, 255, 0), 2)\n",
        "  label = f\"{class_name}: {confidence:.2f}\"\n",
        "  cv2.putText(frame, label, (x1, y1 - 10), cv2.FONT_HERSHEY_SIMPLEX, 0.5, (0, 255, 0), 2)\n",
        "    # Display the frame with detections\n",
        "cv2.imshow(\"YOLO Webcam Detection\", frame)"
      ]
    },
    {
      "cell_type": "markdown",
      "metadata": {
        "id": "o2IMVervUyjH"
      },
      "source": [
        "How can you change the confidence threshold for YOLO object detection and filter out low-confidence\n",
        "predictions"
      ]
    },
    {
      "cell_type": "code",
      "execution_count": null,
      "metadata": {
        "id": "qKueaDwSOyJE"
      },
      "outputs": [],
      "source": [
        "frame = r\"/content/images/transport-logistic-set-vehicles_24877-54157.avif\"\n",
        "frame = cv2.imread(frame)\n",
        "# frame = np.array(frame)\n",
        "for box in cont[0].boxes:\n",
        "  x1, y1, x2, y2 = map(int, box.xyxy.tolist()[0])\n",
        "  class_id = int(box.cls)\n",
        "  class_name = cont[0].names[class_id]\n",
        "  confidence = box.conf.item()\n",
        "  if confidence < .8:\n",
        "            continue\n",
        "  # Draw rectangle and label on the frame\n",
        "  cv2.rectangle(frame, (x1, y1), (x2, y2), (0, 255, 0), 2)\n",
        "  label = f\"{class_name}: {confidence:.2f}\"\n",
        "  cv2.putText(frame, label, (x1, y1 - 10), cv2.FONT_HERSHEY_SIMPLEX, 0.5, (0, 255, 0), 2)\n",
        "    # Display the frame with detections\n",
        "cv2.imshow(\"YOLO Webcam Detection\", frame)\n"
      ]
    },
    {
      "cell_type": "markdown",
      "metadata": {
        "id": "lxLj_toSW9oj"
      },
      "source": [
        " How do you perform inference on multiple images from a local folder using Faster RCNN and display the\n",
        "bounding boxes for each"
      ]
    },
    {
      "cell_type": "code",
      "execution_count": 82,
      "metadata": {
        "id": "9ifWQenlVJRD"
      },
      "outputs": [],
      "source": [
        "folder_name = \"folder_name\"\n",
        "import os"
      ]
    },
    {
      "cell_type": "code",
      "execution_count": 84,
      "metadata": {
        "id": "3D8RFHtrXM1J"
      },
      "outputs": [],
      "source": [
        "def make_inference(folder_name , model):\n",
        "  for img in os.listdir(folder_name):\n",
        "    img_path = os.path.join(folder_name, img)\n",
        "    result = make_inference(img_path, model) # make_inferernce in above\n",
        "    return result"
      ]
    },
    {
      "cell_type": "markdown",
      "metadata": {
        "id": "KyaVackqX7eD"
      },
      "source": [
        "How do you visualize the confidence scores alongside the bounding boxes for detected objects using Faster\n",
        "RCNN"
      ]
    },
    {
      "cell_type": "code",
      "execution_count": null,
      "metadata": {
        "id": "v8yZQhW8X4YR"
      },
      "outputs": [],
      "source": [
        "frame = r\"/content/images/transport-logistic-set-vehicles_24877-54157.avif\"\n",
        "frame = cv2.imread(frame)\n",
        "# frame = np.array(frame)\n",
        "for box in cont[0].boxes:\n",
        "  x1, y1, x2, y2 = map(int, box.xyxy.tolist()[0])\n",
        "  class_id = int(box.cls)\n",
        "  class_name = cont[0].names[class_id]\n",
        "  confidence = box.conf.item()\n",
        "  if confidence < .8:\n",
        "            continue\n",
        "  # Draw rectangle and label on the frame\n",
        "  cv2.rectangle(frame, (x1, y1), (x2, y2), (0, 255, 0), 2)\n",
        "  label = f\"{class_name}: {confidence:.2f}\"\n",
        "  cv2.putText(frame, label, (x1, y1 - 10), cv2.FONT_HERSHEY_SIMPLEX, 0.5, (0, 255, 0), 2)\n",
        "    # Display the frame with detections\n",
        "cv2.imshow(\"YOLO Webcam Detection\", frame)"
      ]
    },
    {
      "cell_type": "markdown",
      "metadata": {
        "id": "QRPh_lSyYwax"
      },
      "source": [
        "How can you save the inference results (with bounding boxes) as a new image after performing detection\n",
        "using YOLO"
      ]
    },
    {
      "cell_type": "code",
      "execution_count": null,
      "metadata": {
        "id": "my6FHyPnYwMB"
      },
      "outputs": [],
      "source": [
        "result = make_inference(image, model)\n",
        "cv2.save(frame)"
      ]
    },
    {
      "cell_type": "code",
      "execution_count": null,
      "metadata": {
        "id": "PBOqKYklXPXb"
      },
      "outputs": [],
      "source": []
    }
  ],
  "metadata": {
    "colab": {
      "provenance": []
    },
    "kernelspec": {
      "display_name": "Python 3",
      "name": "python3"
    },
    "language_info": {
      "name": "python"
    }
  },
  "nbformat": 4,
  "nbformat_minor": 0
}
